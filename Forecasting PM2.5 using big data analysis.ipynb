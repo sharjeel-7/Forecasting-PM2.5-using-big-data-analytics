{
  "nbformat": 4,
  "nbformat_minor": 0,
  "metadata": {
    "kernelspec": {
      "name": "python3",
      "display_name": "Python 3",
      "language": "python"
    },
    "esriNotebookRuntime": {
      "notebookRuntimeName": "ArcGIS Notebook Python 3 Standard",
      "notebookRuntimeVersion": "5.0"
    },
    "language_info": {
      "name": "python",
      "version": "3.7.9",
      "mimetype": "text/x-python",
      "codemirror_mode": {
        "name": "ipython",
        "version": 3
      },
      "pygments_lexer": "ipython3",
      "nbconvert_exporter": "python",
      "file_extension": ".py"
    },
    "colab": {
      "name": "3a80166578d14e75aeefc61c810f4836 (1).ipynb",
      "provenance": [],
      "collapsed_sections": []
    }
  },
  "cells": [
    {
      "cell_type": "markdown",
      "metadata": {
        "id": "P4NJFBvuZgsQ"
      },
      "source": [
        "# **Forecasting PM2.5 using big data analysis.**\n",
        "\n",
        "\n"
      ]
    },
    {
      "cell_type": "markdown",
      "metadata": {
        "id": "C4szd_I2ZgsW"
      },
      "source": [
        "# Importing necessary packages and libraries:"
      ]
    },
    {
      "cell_type": "markdown",
      "metadata": {
        "id": "86klj1ogbLk8"
      },
      "source": [
        ""
      ]
    },
    {
      "cell_type": "code",
      "metadata": {
        "trusted": true,
        "id": "JPpJykRfZgsZ"
      },
      "source": [
        "from datetime import datetime as dt\n",
        "import pandas as pd\n",
        "\n",
        "import arcgis\n",
        "from arcgis.gis import GIS\n",
        "from arcgis.geoanalytics.manage_data import run_python_script"
      ],
      "execution_count": null,
      "outputs": []
    },
    {
      "cell_type": "code",
      "metadata": {
        "trusted": true,
        "id": "Cq76cB42Zgsc"
      },
      "source": [
        "gis = GIS('https://pythonapi.playground.esri.com/portal', 'arcgis_python', 'amazing_arcgis_123')"
      ],
      "execution_count": null,
      "outputs": []
    },
    {
      "cell_type": "markdown",
      "metadata": {
        "id": "zXEN1pahaPtk"
      },
      "source": [
        "\n",
        "# Ensure your GIS supports GeoAnalytics"
      ]
    },
    {
      "cell_type": "code",
      "metadata": {
        "trusted": true,
        "id": "zc5mopcxZgsd",
        "outputId": "3b2f5e0f-5b52-4db0-de1b-69e3257a9f19"
      },
      "source": [
        "arcgis.geoanalytics.is_supported()"
      ],
      "execution_count": null,
      "outputs": [
        {
          "output_type": "execute_result",
          "data": {
            "text/plain": [
              "True"
            ]
          },
          "metadata": {
            "tags": []
          },
          "execution_count": 5
        }
      ]
    },
    {
      "cell_type": "markdown",
      "metadata": {
        "id": "0Q-JKJWVaaWL"
      },
      "source": [
        "\n",
        "# Prepare data"
      ]
    },
    {
      "cell_type": "code",
      "metadata": {
        "trusted": true,
        "id": "EnFWUdf1Zgsg",
        "outputId": "2430b7f4-d33f-4b9c-ae6c-af017739409a"
      },
      "source": [
        "bigdata_datastore_manager = arcgis.geoanalytics.get_datastores()\n",
        "bigdata_datastore_manager"
      ],
      "execution_count": null,
      "outputs": [
        {
          "output_type": "execute_result",
          "data": {
            "text/plain": [
              "<DatastoreManager for https://pythonapi.playground.esri.com/ga/admin>"
            ]
          },
          "metadata": {
            "tags": []
          },
          "execution_count": 6
        }
      ]
    },
    {
      "cell_type": "code",
      "metadata": {
        "trusted": true,
        "id": "HKlHJzUMZgsj",
        "outputId": "ccc7cd7f-ab92-42e9-e027-d22fd86989c7"
      },
      "source": [
        "bigdata_fileshares = bigdata_datastore_manager.search()\n",
        "bigdata_fileshares"
      ],
      "execution_count": null,
      "outputs": [
        {
          "output_type": "execute_result",
          "data": {
            "text/plain": [
              "[<Datastore title:\"/bigDataFileShares/NYC_taxi_data15\" type:\"bigDataFileShare\">,\n",
              " <Datastore title:\"/bigDataFileShares/GA_Data\" type:\"bigDataFileShare\">,\n",
              " <Datastore title:\"/bigDataFileShares/ServiceCallsOrleansTest\" type:\"bigDataFileShare\">,\n",
              " <Datastore title:\"/bigDataFileShares/calls\" type:\"bigDataFileShare\">,\n",
              " <Datastore title:\"/bigDataFileShares/csv_table\" type:\"bigDataFileShare\">,\n",
              " <Datastore title:\"/bigDataFileShares/all_hurricanes\" type:\"bigDataFileShare\">,\n",
              " <Datastore title:\"/bigDataFileShares/NYCdata\" type:\"bigDataFileShare\">,\n",
              " <Datastore title:\"/bigDataFileShares/hurricanes_1848_1900\" type:\"bigDataFileShare\">,\n",
              " <Datastore title:\"/bigDataFileShares/ServiceCallsOrleans\" type:\"bigDataFileShare\">,\n",
              " <Datastore title:\"/bigDataFileShares/hurricanes_dask_csv\" type:\"bigDataFileShare\">,\n",
              " <Datastore title:\"/bigDataFileShares/Chicago_Crimes\" type:\"bigDataFileShare\">,\n",
              " <Datastore title:\"/bigDataFileShares/hurricanes_dask_shp\" type:\"bigDataFileShare\">,\n",
              " <Datastore title:\"/cloudStores/cloud_store\" type:\"cloudStore\">]"
            ]
          },
          "metadata": {
            "tags": []
          },
          "execution_count": 7
        }
      ]
    },
    {
      "cell_type": "markdown",
      "metadata": {
        "id": "Nye0WK7gairT"
      },
      "source": [
        "\n",
        "# Get data for analysis"
      ]
    },
    {
      "cell_type": "code",
      "metadata": {
        "trusted": true,
        "id": "mRtrU4NuZgsk",
        "outputId": "2c672f45-c882-4ad3-c112-52b4a7a9d9f6"
      },
      "source": [
        "aqs_data = gis.content.search(\"bigDataFileShares_GA_Data\", item_type = \"big data file share\")[0]\n",
        "aqs_data"
      ],
      "execution_count": null,
      "outputs": [
        {
          "output_type": "execute_result",
          "data": {
            "text/plain": [
              "<Item title:\"bigDataFileShares_GA_Data\" type:Big Data File Share owner:arcgis_python>"
            ],
            "text/html": [
              "<div class=\"item_container\" style=\"height: auto; overflow: hidden; border: 1px solid #cfcfcf; border-radius: 2px; background: #f6fafa; line-height: 1.21429em; padding: 10px;\">\n",
              "                    <div class=\"item_left\" style=\"width: 210px; float: left;\">\n",
              "                       <a href='https://pythonapi.playground.esri.com/portal/home/item.html?id=8ac8edddff084ca89db738567d190798' target='_blank'>\n",
              "                        <img src='https://pythonapi.playground.esri.com/portal/portalimages/desktopapp.png' class=\"itemThumbnail\">\n",
              "                       </a>\n",
              "                    </div>\n",
              "\n",
              "                    <div class=\"item_right\"     style=\"float: none; width: auto; overflow: hidden;\">\n",
              "                        <a href='https://pythonapi.playground.esri.com/portal/home/item.html?id=8ac8edddff084ca89db738567d190798' target='_blank'><b>bigDataFileShares_GA_Data</b>\n",
              "                        </a>\n",
              "                        <br/><img src='https://pythonapi.playground.esri.com/portal/home/js/jsapi/esri/css/images/item_type_icons/layers16.png' style=\"vertical-align:middle;\">Big Data File Share by arcgis_python\n",
              "                        <br/>Last Modified: May 27, 2021\n",
              "                        <br/>0 comments, 0 views\n",
              "                    </div>\n",
              "                </div>\n",
              "                "
            ]
          },
          "metadata": {
            "tags": []
          },
          "execution_count": 8
        }
      ]
    },
    {
      "cell_type": "code",
      "metadata": {
        "trusted": true,
        "id": "IIQkVThrZgsn",
        "outputId": "a4134a44-1b41-4101-c01d-892de785a620"
      },
      "source": [
        "air_lyr = aqs_data.layers[0]\n",
        "air_lyr.properties"
      ],
      "execution_count": null,
      "outputs": [
        {
          "output_type": "execute_result",
          "data": {
            "text/plain": [
              "{\n",
              "  \"dataStoreID\": \"0e7a861d-c1c5-4acc-869d-05d2cebbdbee\",\n",
              "  \"fields\": [\n",
              "    {\n",
              "      \"name\": \"State Code\",\n",
              "      \"type\": \"esriFieldTypeInteger\"\n",
              "    },\n",
              "    {\n",
              "      \"name\": \"County Code\",\n",
              "      \"type\": \"esriFieldTypeInteger\"\n",
              "    },\n",
              "    {\n",
              "      \"name\": \"Site Num\",\n",
              "      \"type\": \"esriFieldTypeInteger\"\n",
              "    },\n",
              "    {\n",
              "      \"name\": \"Parameter Code\",\n",
              "      \"type\": \"esriFieldTypeInteger\"\n",
              "    },\n",
              "    {\n",
              "      \"name\": \"POC\",\n",
              "      \"type\": \"esriFieldTypeInteger\"\n",
              "    },\n",
              "    {\n",
              "      \"name\": \"Latitude\",\n",
              "      \"type\": \"esriFieldTypeDouble\"\n",
              "    },\n",
              "    {\n",
              "      \"name\": \"Longitude\",\n",
              "      \"type\": \"esriFieldTypeDouble\"\n",
              "    },\n",
              "    {\n",
              "      \"name\": \"Datum\",\n",
              "      \"type\": \"esriFieldTypeString\"\n",
              "    },\n",
              "    {\n",
              "      \"name\": \"Parameter Name\",\n",
              "      \"type\": \"esriFieldTypeString\"\n",
              "    },\n",
              "    {\n",
              "      \"name\": \"Date Local\",\n",
              "      \"type\": \"esriFieldTypeString\"\n",
              "    },\n",
              "    {\n",
              "      \"name\": \"Time Local\",\n",
              "      \"type\": \"esriFieldTypeString\"\n",
              "    },\n",
              "    {\n",
              "      \"name\": \"Date GMT\",\n",
              "      \"type\": \"esriFieldTypeString\"\n",
              "    },\n",
              "    {\n",
              "      \"name\": \"Time GMT\",\n",
              "      \"type\": \"esriFieldTypeString\"\n",
              "    },\n",
              "    {\n",
              "      \"name\": \"Sample Measurement\",\n",
              "      \"type\": \"esriFieldTypeDouble\"\n",
              "    },\n",
              "    {\n",
              "      \"name\": \"Units of Measure\",\n",
              "      \"type\": \"esriFieldTypeString\"\n",
              "    },\n",
              "    {\n",
              "      \"name\": \"MDL\",\n",
              "      \"type\": \"esriFieldTypeDouble\"\n",
              "    },\n",
              "    {\n",
              "      \"name\": \"Uncertainty\",\n",
              "      \"type\": \"esriFieldTypeString\"\n",
              "    },\n",
              "    {\n",
              "      \"name\": \"Qualifier\",\n",
              "      \"type\": \"esriFieldTypeString\"\n",
              "    },\n",
              "    {\n",
              "      \"name\": \"Method Type\",\n",
              "      \"type\": \"esriFieldTypeString\"\n",
              "    },\n",
              "    {\n",
              "      \"name\": \"Method Code\",\n",
              "      \"type\": \"esriFieldTypeInteger\"\n",
              "    },\n",
              "    {\n",
              "      \"name\": \"Method Name\",\n",
              "      \"type\": \"esriFieldTypeString\"\n",
              "    },\n",
              "    {\n",
              "      \"name\": \"State Name\",\n",
              "      \"type\": \"esriFieldTypeString\"\n",
              "    },\n",
              "    {\n",
              "      \"name\": \"County Name\",\n",
              "      \"type\": \"esriFieldTypeString\"\n",
              "    },\n",
              "    {\n",
              "      \"name\": \"Date of Last Change\",\n",
              "      \"type\": \"esriFieldTypeString\"\n",
              "    }\n",
              "  ],\n",
              "  \"name\": \"air_quality\",\n",
              "  \"geometryType\": \"esriGeometryPoint\",\n",
              "  \"type\": \"featureClass\",\n",
              "  \"spatialReference\": {\n",
              "    \"wkid\": 102682,\n",
              "    \"latestWkid\": 3452\n",
              "  },\n",
              "  \"geometry\": {\n",
              "    \"fields\": [\n",
              "      {\n",
              "        \"name\": \"Longitude\",\n",
              "        \"formats\": [\n",
              "          \"x\"\n",
              "        ]\n",
              "      },\n",
              "      {\n",
              "        \"name\": \"Latitude\",\n",
              "        \"formats\": [\n",
              "          \"y\"\n",
              "        ]\n",
              "      }\n",
              "    ]\n",
              "  },\n",
              "  \"time\": {\n",
              "    \"timeType\": \"instant\",\n",
              "    \"timeReference\": {\n",
              "      \"timeZone\": \"UTC\"\n",
              "    },\n",
              "    \"fields\": [\n",
              "      {\n",
              "        \"name\": \"Date Local\",\n",
              "        \"formats\": [\n",
              "          \"yyyy-MM-dd\"\n",
              "        ]\n",
              "      }\n",
              "    ]\n",
              "  },\n",
              "  \"currentVersion\": 10.81,\n",
              "  \"children\": []\n",
              "}"
            ]
          },
          "metadata": {
            "tags": []
          },
          "execution_count": 9
        }
      ]
    },
    {
      "cell_type": "code",
      "metadata": {
        "trusted": true,
        "id": "94yg0QdcZgso",
        "outputId": "4510cf77-e274-4f87-b2af-54f6488f7775"
      },
      "source": [
        "usa_counties = gis.content.get('5c6ef8ef57934990b543708f815d606e')\n",
        "usa_counties"
      ],
      "execution_count": null,
      "outputs": [
        {
          "output_type": "execute_result",
          "data": {
            "text/plain": [
              "<Item title:\"usaCounties\" type:Feature Layer Collection owner:api_data_owner>"
            ],
            "text/html": [
              "<div class=\"item_container\" style=\"height: auto; overflow: hidden; border: 1px solid #cfcfcf; border-radius: 2px; background: #f6fafa; line-height: 1.21429em; padding: 10px;\">\n",
              "                    <div class=\"item_left\" style=\"width: 210px; float: left;\">\n",
              "                       <a href='https://pythonapi.playground.esri.com/portal/home/item.html?id=5c6ef8ef57934990b543708f815d606e' target='_blank'>\n",
              "                        <img src='data:image/png;base64,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' width='200' height='133' class=\"itemThumbnail\">\n",
              "                       </a>\n",
              "                    </div>\n",
              "\n",
              "                    <div class=\"item_right\"     style=\"float: none; width: auto; overflow: hidden;\">\n",
              "                        <a href='https://pythonapi.playground.esri.com/portal/home/item.html?id=5c6ef8ef57934990b543708f815d606e' target='_blank'><b>usaCounties</b>\n",
              "                        </a>\n",
              "                        <br/><img src='https://pythonapi.playground.esri.com/portal/home/js/jsapi/esri/css/images/item_type_icons/featureshosted16.png' style=\"vertical-align:middle;\">Feature Layer Collection by api_data_owner\n",
              "                        <br/>Last Modified: May 27, 2021\n",
              "                        <br/>0 comments, 28 views\n",
              "                    </div>\n",
              "                </div>\n",
              "                "
            ]
          },
          "metadata": {
            "tags": []
          },
          "execution_count": 10
        }
      ]
    },
    {
      "cell_type": "code",
      "metadata": {
        "trusted": true,
        "id": "-R4XcpSOZgso"
      },
      "source": [
        "usa_counties_lyr = usa_counties.layers[0]"
      ],
      "execution_count": null,
      "outputs": []
    },
    {
      "cell_type": "markdown",
      "metadata": {
        "id": "zWmUHftlarKV"
      },
      "source": [
        "\n",
        "Uncover patterns in data"
      ]
    },
    {
      "cell_type": "code",
      "metadata": {
        "trusted": true,
        "id": "eAsBJxj7Zgsp"
      },
      "source": [
        "from arcgis.geoanalytics.summarize_data import describe_dataset"
      ],
      "execution_count": null,
      "outputs": []
    },
    {
      "cell_type": "code",
      "metadata": {
        "trusted": true,
        "id": "-GvLpeZrZgsp"
      },
      "source": [
        "description = describe_dataset(input_layer=air_lyr,\n",
        "                        extent_output=True,\n",
        "                        sample_size=1000,\n",
        "                        output_name=\"describe dataset\",\n",
        "                              return_tuple=True)"
      ],
      "execution_count": null,
      "outputs": []
    },
    {
      "cell_type": "code",
      "metadata": {
        "trusted": false,
        "colab": {
          "referenced_widgets": [
            "02a82dd615cd4e1d8d8300a9586f6370"
          ]
        },
        "id": "IDLlO8guZgsq",
        "outputId": "defcc42d-29b6-4ce8-84e9-b9252f123bf8"
      },
      "source": [
        "m1 = gis.map('USA')\n",
        "m1"
      ],
      "execution_count": null,
      "outputs": [
        {
          "output_type": "display_data",
          "data": {
            "text/plain": [
              "MapView(layout=Layout(height='400px', width='100%'))"
            ],
            "application/vnd.jupyter.widget-view+json": {
              "version_major": 2,
              "version_minor": 0,
              "model_id": "02a82dd615cd4e1d8d8300a9586f6370"
            }
          },
          "metadata": {
            "tags": []
          }
        },
        {
          "output_type": "display_data",
          "data": {
            "text/plain": [
              "<IPython.core.display.HTML object>"
            ],
            "text/html": [
              "<div class=\"map-static-img-preview-8dc13b20-dedb-4cca-afbd-bc6d4748fbc8\"><img src=\"\"></img></div>"
            ]
          },
          "metadata": {
            "tags": []
          }
        },
        {
          "output_type": "display_data",
          "data": {
            "text/plain": [
              "<IPython.core.display.HTML object>"
            ],
            "text/html": [
              "<div class=\"map-html-embed-preview-8dc13b20-dedb-4cca-afbd-bc6d4748fbc8\"></div>"
            ]
          },
          "metadata": {
            "tags": []
          }
        }
      ]
    },
    {
      "cell_type": "code",
      "metadata": {
        "trusted": false,
        "id": "xaYWgFWeZgsr"
      },
      "source": [
        "def measurement_type():\n",
        "    from datetime import datetime as dt\n",
        "    # Load the big data file share layer into a DataFrame\n",
        "    df = layers[0]\n",
        "    out = df.groupBy('Method Name','Parameter Name').count()\n",
        "    out.write.format(\"webgis\").save(\"common_method_type\" + str(dt.now().microsecond))"
      ],
      "execution_count": null,
      "outputs": []
    },
    {
      "cell_type": "code",
      "metadata": {
        "trusted": false,
        "id": "mpfY3AhqZgsr"
      },
      "source": [
        "method_item = gis.content.search('common_method_type')[0]"
      ],
      "execution_count": null,
      "outputs": []
    },
    {
      "cell_type": "code",
      "metadata": {
        "trusted": true,
        "id": "oaNvHysbZgsr"
      },
      "source": [
        "run_python_script(code=measurement_type, layers=[air_lyr])"
      ],
      "execution_count": null,
      "outputs": []
    },
    {
      "cell_type": "code",
      "metadata": {
        "trusted": false,
        "id": "qIipLrSpZgsr"
      },
      "source": [
        "method_df = method_item.tables[0].query(as_df=True)"
      ],
      "execution_count": null,
      "outputs": []
    },
    {
      "cell_type": "code",
      "metadata": {
        "trusted": false,
        "id": "S-H-oFM4Zgss",
        "outputId": "ad680251-ed88-44ad-e932-7f57550df3e9"
      },
      "source": [
        "method_df.sort_values(by='count', ascending=False)"
      ],
      "execution_count": null,
      "outputs": [
        {
          "output_type": "execute_result",
          "data": {
            "text/plain": [
              "                                           Method_Name  \\\n",
              "219             INSTRUMENTAL - ULTRA VIOLET ABSORPTION   \n",
              "6            INSTRUMENTAL - ELECTRONIC OR MACHINE AVG.   \n",
              "266                        INSTRUMENTAL - ULTRA VIOLET   \n",
              "213                    INSTRUMENTAL - VECTOR SUMMATION   \n",
              "184                    INSTRUMENTAL - VECTOR SUMMATION   \n",
              "..                                                 ...   \n",
              "100  Cooper Environmental Services model Xact 620 -...   \n",
              "12   Cooper Environmental Services model Xact 620 -...   \n",
              "245  Cooper Environmental Services model Xact 620 -...   \n",
              "109  Cooper Environmental Services model Xact 620 -...   \n",
              "38                                                 The   \n",
              "\n",
              "                 Parameter_Name     count  \\\n",
              "219                       Ozone  10650047   \n",
              "6           Outdoor Temperature   9808818   \n",
              "266                       Ozone   8634142   \n",
              "213  Wind Direction - Resultant   7348868   \n",
              "184      Wind Speed - Resultant   7267098   \n",
              "..                          ...       ...   \n",
              "100            Vanadium PM10 LC       105   \n",
              "12              Calcium PM10 LC       105   \n",
              "245              Silver PM10 LC       105   \n",
              "109                 Tin PM10 LC       105   \n",
              "38     PM2.5 - Local Conditions         1   \n",
              "\n",
              "                                   globalid  OBJECTID  \n",
              "219  {1FC75F52-DB81-B091-056F-368283C77C33}       312  \n",
              "6    {013B66EB-E352-FC3F-2339-DCBAC2662375}         8  \n",
              "266  {A8872DC4-617C-27B9-EB79-8C958B7B0242}       398  \n",
              "213  {176D788A-2F7F-5BE8-691F-8456156D4397}       303  \n",
              "184  {E2FBC9D6-B366-3DCA-FF8D-7355411D457A}       255  \n",
              "..                                      ...       ...  \n",
              "100  {4F346FAE-D745-5F69-3DEE-C3B019802C86}       126  \n",
              "12   {A76DC73F-4832-2DE3-4D8F-E9546C0C059D}        17  \n",
              "245  {3EF0D033-D9F0-5D47-DB61-30E70EDFCEE4}       356  \n",
              "109  {B04CACD8-6BD0-A25C-2BC7-2B6EC1BB0D2C}       139  \n",
              "38   {91B572AD-84C6-7841-EC01-187E24FB8F30}        49  \n",
              "\n",
              "[338 rows x 5 columns]"
            ],
            "text/html": [
              "<div>\n",
              "<style scoped>\n",
              "    .dataframe tbody tr th:only-of-type {\n",
              "        vertical-align: middle;\n",
              "    }\n",
              "\n",
              "    .dataframe tbody tr th {\n",
              "        vertical-align: top;\n",
              "    }\n",
              "\n",
              "    .dataframe thead th {\n",
              "        text-align: right;\n",
              "    }\n",
              "</style>\n",
              "<table border=\"1\" class=\"dataframe\">\n",
              "  <thead>\n",
              "    <tr style=\"text-align: right;\">\n",
              "      <th></th>\n",
              "      <th>Method_Name</th>\n",
              "      <th>Parameter_Name</th>\n",
              "      <th>count</th>\n",
              "      <th>globalid</th>\n",
              "      <th>OBJECTID</th>\n",
              "    </tr>\n",
              "  </thead>\n",
              "  <tbody>\n",
              "    <tr>\n",
              "      <th>219</th>\n",
              "      <td>INSTRUMENTAL - ULTRA VIOLET ABSORPTION</td>\n",
              "      <td>Ozone</td>\n",
              "      <td>10650047</td>\n",
              "      <td>{1FC75F52-DB81-B091-056F-368283C77C33}</td>\n",
              "      <td>312</td>\n",
              "    </tr>\n",
              "    <tr>\n",
              "      <th>6</th>\n",
              "      <td>INSTRUMENTAL - ELECTRONIC OR MACHINE AVG.</td>\n",
              "      <td>Outdoor Temperature</td>\n",
              "      <td>9808818</td>\n",
              "      <td>{013B66EB-E352-FC3F-2339-DCBAC2662375}</td>\n",
              "      <td>8</td>\n",
              "    </tr>\n",
              "    <tr>\n",
              "      <th>266</th>\n",
              "      <td>INSTRUMENTAL - ULTRA VIOLET</td>\n",
              "      <td>Ozone</td>\n",
              "      <td>8634142</td>\n",
              "      <td>{A8872DC4-617C-27B9-EB79-8C958B7B0242}</td>\n",
              "      <td>398</td>\n",
              "    </tr>\n",
              "    <tr>\n",
              "      <th>213</th>\n",
              "      <td>INSTRUMENTAL - VECTOR SUMMATION</td>\n",
              "      <td>Wind Direction - Resultant</td>\n",
              "      <td>7348868</td>\n",
              "      <td>{176D788A-2F7F-5BE8-691F-8456156D4397}</td>\n",
              "      <td>303</td>\n",
              "    </tr>\n",
              "    <tr>\n",
              "      <th>184</th>\n",
              "      <td>INSTRUMENTAL - VECTOR SUMMATION</td>\n",
              "      <td>Wind Speed - Resultant</td>\n",
              "      <td>7267098</td>\n",
              "      <td>{E2FBC9D6-B366-3DCA-FF8D-7355411D457A}</td>\n",
              "      <td>255</td>\n",
              "    </tr>\n",
              "    <tr>\n",
              "      <th>...</th>\n",
              "      <td>...</td>\n",
              "      <td>...</td>\n",
              "      <td>...</td>\n",
              "      <td>...</td>\n",
              "      <td>...</td>\n",
              "    </tr>\n",
              "    <tr>\n",
              "      <th>100</th>\n",
              "      <td>Cooper Environmental Services model Xact 620 -...</td>\n",
              "      <td>Vanadium PM10 LC</td>\n",
              "      <td>105</td>\n",
              "      <td>{4F346FAE-D745-5F69-3DEE-C3B019802C86}</td>\n",
              "      <td>126</td>\n",
              "    </tr>\n",
              "    <tr>\n",
              "      <th>12</th>\n",
              "      <td>Cooper Environmental Services model Xact 620 -...</td>\n",
              "      <td>Calcium PM10 LC</td>\n",
              "      <td>105</td>\n",
              "      <td>{A76DC73F-4832-2DE3-4D8F-E9546C0C059D}</td>\n",
              "      <td>17</td>\n",
              "    </tr>\n",
              "    <tr>\n",
              "      <th>245</th>\n",
              "      <td>Cooper Environmental Services model Xact 620 -...</td>\n",
              "      <td>Silver PM10 LC</td>\n",
              "      <td>105</td>\n",
              "      <td>{3EF0D033-D9F0-5D47-DB61-30E70EDFCEE4}</td>\n",
              "      <td>356</td>\n",
              "    </tr>\n",
              "    <tr>\n",
              "      <th>109</th>\n",
              "      <td>Cooper Environmental Services model Xact 620 -...</td>\n",
              "      <td>Tin PM10 LC</td>\n",
              "      <td>105</td>\n",
              "      <td>{B04CACD8-6BD0-A25C-2BC7-2B6EC1BB0D2C}</td>\n",
              "      <td>139</td>\n",
              "    </tr>\n",
              "    <tr>\n",
              "      <th>38</th>\n",
              "      <td>The</td>\n",
              "      <td>PM2.5 - Local Conditions</td>\n",
              "      <td>1</td>\n",
              "      <td>{91B572AD-84C6-7841-EC01-187E24FB8F30}</td>\n",
              "      <td>49</td>\n",
              "    </tr>\n",
              "  </tbody>\n",
              "</table>\n",
              "<p>338 rows × 5 columns</p>\n",
              "</div>"
            ]
          },
          "metadata": {
            "tags": []
          },
          "execution_count": 26
        }
      ]
    },
    {
      "cell_type": "markdown",
      "metadata": {
        "id": "x65-U3FNa0MO"
      },
      "source": [
        "\n",
        "# Average PM 2.5 value by county"
      ]
    },
    {
      "cell_type": "code",
      "metadata": {
        "trusted": false,
        "id": "CvJwQBLMZgss"
      },
      "source": [
        "def average():\n",
        "    from datetime import datetime as dt\n",
        "    df = layers[0]\n",
        "    df = df.filter(df['Parameter Name'] == 'PM2.5 - Local Conditions')\n",
        "    res = geoanalytics.join_features(target_layer=layers[1], \n",
        "                                     join_layer=df, \n",
        "                                     join_operation=\"JoinOneToOne\",\n",
        "                                     summary_fields=[{'statisticType' : 'mean', 'onStatisticField' : 'Sample Measurement'}],\n",
        "                                     spatial_relationship='Contains')\n",
        "    res.write.format(\"webgis\").save(\"average_pm_by_county\" + str(dt.now().microsecond))"
      ],
      "execution_count": null,
      "outputs": []
    },
    {
      "cell_type": "code",
      "metadata": {
        "trusted": true,
        "id": "4VtSFafmZgst"
      },
      "source": [
        "run_python_script(average, [air_lyr, usa_counties_lyr])"
      ],
      "execution_count": null,
      "outputs": []
    },
    {
      "cell_type": "code",
      "metadata": {
        "trusted": true,
        "id": "oMzadoaiZgst"
      },
      "source": [
        "average_pm_by_county = gis.content.search('average_pm_by_county')[0]"
      ],
      "execution_count": null,
      "outputs": []
    },
    {
      "cell_type": "code",
      "metadata": {
        "trusted": true,
        "id": "UI42BCaQZgst",
        "outputId": "a7c3904c-a511-4a25-f796-e0b6124a74b4"
      },
      "source": [
        "average_pm_by_county"
      ],
      "execution_count": null,
      "outputs": [
        {
          "output_type": "execute_result",
          "data": {
            "text/plain": [
              "<Item title:\"average_pm_by_county\" type:Feature Layer Collection owner:arcgis_python>"
            ],
            "text/html": [
              "<div class=\"item_container\" style=\"height: auto; overflow: hidden; border: 1px solid #cfcfcf; border-radius: 2px; background: #f6fafa; line-height: 1.21429em; padding: 10px;\">\n",
              "                    <div class=\"item_left\" style=\"width: 210px; float: left;\">\n",
              "                       <a href='https://pythonapi.playground.esri.com/portal/home/item.html?id=81611d0a31a346c8bd641e4b1a4a514b' target='_blank'>\n",
              "                        <img src='https://pythonapi.playground.esri.com/portal/portalimages/desktopapp.png' class=\"itemThumbnail\">\n",
              "                       </a>\n",
              "                    </div>\n",
              "\n",
              "                    <div class=\"item_right\"     style=\"float: none; width: auto; overflow: hidden;\">\n",
              "                        <a href='https://pythonapi.playground.esri.com/portal/home/item.html?id=81611d0a31a346c8bd641e4b1a4a514b' target='_blank'><b>average_pm_by_county</b>\n",
              "                        </a>\n",
              "                        <br/><img src='https://pythonapi.playground.esri.com/portal/home/js/jsapi/esri/css/images/item_type_icons/featureshosted16.png' style=\"vertical-align:middle;\">Feature Layer Collection by arcgis_python\n",
              "                        <br/>Last Modified: June 30, 2021\n",
              "                        <br/>0 comments, 1 views\n",
              "                    </div>\n",
              "                </div>\n",
              "                "
            ]
          },
          "metadata": {
            "tags": []
          },
          "execution_count": 16
        }
      ]
    },
    {
      "cell_type": "code",
      "metadata": {
        "trusted": true,
        "id": "pxu8cj6BZgsu"
      },
      "source": [
        "avg_pm = average_pm_by_county.layers[0]"
      ],
      "execution_count": null,
      "outputs": []
    },
    {
      "cell_type": "code",
      "metadata": {
        "trusted": true,
        "id": "J4E26CgSZgsu"
      },
      "source": [
        "avg_pm.query(as_df=True).columns"
      ],
      "execution_count": null,
      "outputs": []
    },
    {
      "cell_type": "code",
      "metadata": {
        "trusted": false,
        "colab": {
          "referenced_widgets": [
            "a6fa7f97616247c398dbf29ab95955af"
          ]
        },
        "id": "uDnBSW63Zgsu",
        "outputId": "12bfd314-3c75-4c48-8d2f-f927eb3c7c7b"
      },
      "source": [
        "m2 = gis.map('USA')\n",
        "m2"
      ],
      "execution_count": null,
      "outputs": [
        {
          "output_type": "display_data",
          "data": {
            "text/plain": [
              "MapView(layout=Layout(height='400px', width='100%'))"
            ],
            "application/vnd.jupyter.widget-view+json": {
              "version_major": 2,
              "version_minor": 0,
              "model_id": "a6fa7f97616247c398dbf29ab95955af"
            }
          },
          "metadata": {
            "tags": []
          }
        },
        {
          "output_type": "display_data",
          "data": {
            "text/plain": [
              "<IPython.core.display.HTML object>"
            ],
            "text/html": [
              "<div class=\"map-static-img-preview-f8d290c3-be69-41f5-88e1-265cea867d3f\"><img src=\"\"></img></div>"
            ]
          },
          "metadata": {
            "tags": []
          }
        },
        {
          "output_type": "display_data",
          "data": {
            "text/plain": [
              "<IPython.core.display.HTML object>"
            ],
            "text/html": [
              "<div class=\"map-html-embed-preview-f8d290c3-be69-41f5-88e1-265cea867d3f\"></div>"
            ]
          },
          "metadata": {
            "tags": []
          }
        }
      ]
    },
    {
      "cell_type": "code",
      "metadata": {
        "trusted": false,
        "id": "6jPTIu_mZgsv"
      },
      "source": [
        "m2.add_layer(avg_pm, {\"type\": \"FeatureLayer\",\n",
        "                      \"renderer\":\"ClassedColorRenderer\",\n",
        "                      \"field_name\":\"MEAN_Sample_Measurement\",\n",
        "                      \"class_breaks\": 6})"
      ],
      "execution_count": null,
      "outputs": []
    },
    {
      "cell_type": "code",
      "metadata": {
        "trusted": true,
        "id": "WwbrgSiUZgsv"
      },
      "source": [
        "m2.zoom_to_layer(avg_pm)\n",
        "m2.legend=True"
      ],
      "execution_count": null,
      "outputs": []
    },
    {
      "cell_type": "markdown",
      "metadata": {
        "id": "IGraNoOGbS4N"
      },
      "source": [
        "# Prepare time series data\n"
      ]
    },
    {
      "cell_type": "code",
      "metadata": {
        "trusted": false,
        "id": "fK9MC2U2Zgsv"
      },
      "source": [
        "def data_processsing():\n",
        "    from datetime import datetime as dt\n",
        "    import pyspark.sql.functions as F\n",
        "    from pyspark.sql.functions import concat, col, lit\n",
        "    # Load the big data file share layer into a DataFrame.\n",
        "    df = layers[0] #converts feature layer to spark dataframe\n",
        "    cols = ['Site Num', 'County Code', 'State Code', 'Date Local', 'Time Local', 'Parameter Name', 'Sample Measurement']\n",
        "    df = df.select(cols) #create a subset of the dataset with only selected columns\n",
        "    df = df.withColumn('Site_Num', F.lpad(df['Site Num'], 4, '0'))\n",
        "    df = df.withColumn('County_Code', F.lpad(df['County Code'], 3, '0'))\n",
        "    df = df.withColumn('State_Code', F.lpad(df['State Code'], 2, '0'))\n",
        "    df = df.withColumn('unique_id', F.concat(F.col('State_Code'), F.col('County_Code'), F.col('Site_Num')))\n",
        "#     drop_cols = ['Site_Num', 'County_Code', 'State_Code', 'Site Num', 'County Code', 'State Code']\n",
        "    df = df.drop('Site_Num', 'County_Code', 'Staate_Code', 'Site Num', 'County Code', 'State Code')\n",
        "    df = df.withColumn('datetime', concat(col(\"Date Local\"), lit(\" \"), col(\"Time Local\")))\n",
        "#     drop_cols = ['Time Local', 'Date Local']\n",
        "    df = df.drop('Time Local', 'Date Local')\n",
        "    df = df.filter(df.unique_id == df.first().unique_id) #filter by only one station\n",
        "    # group the dataframe by datetime,unique_id field and pivot the table to get variables needed for prediction as columns  \n",
        "    df = df.groupby(df['datetime'], df['unique_id']).pivot(\"Parameter Name\").avg(\"Sample Measurement\")\n",
        "\n",
        "    df.write.format(\"webgis\").save(\"timeseries_data_17_18_19_1station\" + str(dt.now().microsecond))# it will run only if it is connected to DB"
      ],
      "execution_count": null,
      "outputs": []
    },
    {
      "cell_type": "code",
      "metadata": {
        "trusted": true,
        "id": "I7i68CYkZgsw"
      },
      "source": [
        "run_python_script(code=data_processsing, layers=[air_lyr], gis=gis)"
      ],
      "execution_count": null,
      "outputs": []
    },
    {
      "cell_type": "code",
      "metadata": {
        "trusted": false,
        "id": "ruCaeoEuZgsw",
        "outputId": "5c5a1e03-38ae-4239-ba5a-9f2116382d6e"
      },
      "source": [
        "data = gis.content.search('timeseries_data_17_18_19_1station')[0]\n",
        "data"
      ],
      "execution_count": null,
      "outputs": [
        {
          "output_type": "execute_result",
          "data": {
            "text/plain": [
              "<Item title:\"timeseries_data_17_18_19_1station666902\" type:Table Layer owner:arcgis_python>"
            ],
            "text/html": [
              "<div class=\"item_container\" style=\"height: auto; overflow: hidden; border: 1px solid #cfcfcf; border-radius: 2px; background: #f6fafa; line-height: 1.21429em; padding: 10px;\">\n",
              "                    <div class=\"item_left\" style=\"width: 210px; float: left;\">\n",
              "                       <a href='https://pythonapi.playground.esri.com/portal/home/item.html?id=2c0c429fbdd34d4ba7f569cf8259946c' target='_blank'>\n",
              "                        <img src='https://pythonapi.playground.esri.com/portal/portalimages/desktopapp.png' class=\"itemThumbnail\">\n",
              "                       </a>\n",
              "                    </div>\n",
              "\n",
              "                    <div class=\"item_right\"     style=\"float: none; width: auto; overflow: hidden;\">\n",
              "                        <a href='https://pythonapi.playground.esri.com/portal/home/item.html?id=2c0c429fbdd34d4ba7f569cf8259946c' target='_blank'><b>timeseries_data_17_18_19_1station666902</b>\n",
              "                        </a>\n",
              "                        <br/><img src='https://pythonapi.playground.esri.com/portal/home/js/jsapi/esri/css/images/item_type_icons/table16.png' style=\"vertical-align:middle;\">Table Layer by arcgis_python\n",
              "                        <br/>Last Modified: June 30, 2021\n",
              "                        <br/>0 comments, 1 views\n",
              "                    </div>\n",
              "                </div>\n",
              "                "
            ]
          },
          "metadata": {
            "tags": []
          },
          "execution_count": 45
        }
      ]
    },
    {
      "cell_type": "code",
      "metadata": {
        "trusted": false,
        "id": "mdYf0tbiZgsw"
      },
      "source": [
        "series_data = data.tables[0]"
      ],
      "execution_count": null,
      "outputs": []
    },
    {
      "cell_type": "code",
      "metadata": {
        "trusted": false,
        "id": "X8abMtV6Zgsx",
        "outputId": "cff18168-134e-416a-885d-cad10ee50390"
      },
      "source": [
        "series_data.query(as_df=True)[:5]"
      ],
      "execution_count": null,
      "outputs": [
        {
          "output_type": "execute_result",
          "data": {
            "text/plain": [
              "   Barometric_pressure  Carbon_monoxide  Nitric_oxide__NO_  \\\n",
              "0               1004.3            0.133               0.80   \n",
              "1                996.3              NaN               0.15   \n",
              "2                995.8              NaN              31.40   \n",
              "3                988.7            0.141               0.90   \n",
              "4               1001.9            0.361               1.20   \n",
              "\n",
              "   Nitrogen_dioxide__NO2_  OBJECTID  Outdoor_Temperature  \\\n",
              "0                     1.8         1                 54.3   \n",
              "1                    12.3         2                 46.4   \n",
              "2                    21.5         3                 66.2   \n",
              "3                     2.9         4                 92.7   \n",
              "4                    14.4         5                 61.9   \n",
              "\n",
              "   Oxides_of_nitrogen__NOx_  Ozone  PM10_Total_0_10um_STP  \\\n",
              "0                       2.6  0.039                    NaN   \n",
              "1                      12.6  0.018                    NaN   \n",
              "2                      55.9  0.007                   50.0   \n",
              "3                       4.1  0.036                   52.0   \n",
              "4                      15.7  0.029                    NaN   \n",
              "\n",
              "   PM2_5___Local_Conditions  Reactive_oxides_of_nitrogen__NOy_  \\\n",
              "0                       3.6                                2.5   \n",
              "1                      13.2                               13.0   \n",
              "2                      19.0                               48.5   \n",
              "3                      25.6                                4.9   \n",
              "4                       4.5                               13.0   \n",
              "\n",
              "   Relative_Humidity  Sulfur_dioxide  Wind_Direction___Resultant  \\\n",
              "0               35.0             0.3                        73.0   \n",
              "1               59.0             0.6                        73.0   \n",
              "2               69.0             6.4                       150.0   \n",
              "3               42.0             0.9                       269.0   \n",
              "4               31.0             4.0                       201.0   \n",
              "\n",
              "   Wind_Speed___Resultant          datetime  \\\n",
              "0                     4.4  2017-02-13 10:00   \n",
              "1                     3.5  2017-12-14 22:00   \n",
              "2                     2.0  2017-05-26 06:00   \n",
              "3                     4.1  2018-06-20 14:00   \n",
              "4                     4.0  2017-02-10 19:00   \n",
              "\n",
              "                                 globalid  unique_id  \n",
              "0  {8CA1B4E4-C3D4-790C-1F7D-5C51972DBE06}  010730023  \n",
              "1  {77B49E92-0811-7E36-8F65-2F53EF6EB173}  010730023  \n",
              "2  {C908147A-DC90-9163-E39E-FEABA7C3CE6E}  010730023  \n",
              "3  {C60C1BC4-A50A-DAD4-9DC9-3788C83E2826}  010730023  \n",
              "4  {8474318E-C39B-AC50-BAB1-787192998B4B}  010730023  "
            ],
            "text/html": [
              "<div>\n",
              "<style scoped>\n",
              "    .dataframe tbody tr th:only-of-type {\n",
              "        vertical-align: middle;\n",
              "    }\n",
              "\n",
              "    .dataframe tbody tr th {\n",
              "        vertical-align: top;\n",
              "    }\n",
              "\n",
              "    .dataframe thead th {\n",
              "        text-align: right;\n",
              "    }\n",
              "</style>\n",
              "<table border=\"1\" class=\"dataframe\">\n",
              "  <thead>\n",
              "    <tr style=\"text-align: right;\">\n",
              "      <th></th>\n",
              "      <th>Barometric_pressure</th>\n",
              "      <th>Carbon_monoxide</th>\n",
              "      <th>Nitric_oxide__NO_</th>\n",
              "      <th>Nitrogen_dioxide__NO2_</th>\n",
              "      <th>OBJECTID</th>\n",
              "      <th>Outdoor_Temperature</th>\n",
              "      <th>Oxides_of_nitrogen__NOx_</th>\n",
              "      <th>Ozone</th>\n",
              "      <th>PM10_Total_0_10um_STP</th>\n",
              "      <th>PM2_5___Local_Conditions</th>\n",
              "      <th>Reactive_oxides_of_nitrogen__NOy_</th>\n",
              "      <th>Relative_Humidity</th>\n",
              "      <th>Sulfur_dioxide</th>\n",
              "      <th>Wind_Direction___Resultant</th>\n",
              "      <th>Wind_Speed___Resultant</th>\n",
              "      <th>datetime</th>\n",
              "      <th>globalid</th>\n",
              "      <th>unique_id</th>\n",
              "    </tr>\n",
              "  </thead>\n",
              "  <tbody>\n",
              "    <tr>\n",
              "      <th>0</th>\n",
              "      <td>1004.3</td>\n",
              "      <td>0.133</td>\n",
              "      <td>0.80</td>\n",
              "      <td>1.8</td>\n",
              "      <td>1</td>\n",
              "      <td>54.3</td>\n",
              "      <td>2.6</td>\n",
              "      <td>0.039</td>\n",
              "      <td>NaN</td>\n",
              "      <td>3.6</td>\n",
              "      <td>2.5</td>\n",
              "      <td>35.0</td>\n",
              "      <td>0.3</td>\n",
              "      <td>73.0</td>\n",
              "      <td>4.4</td>\n",
              "      <td>2017-02-13 10:00</td>\n",
              "      <td>{8CA1B4E4-C3D4-790C-1F7D-5C51972DBE06}</td>\n",
              "      <td>010730023</td>\n",
              "    </tr>\n",
              "    <tr>\n",
              "      <th>1</th>\n",
              "      <td>996.3</td>\n",
              "      <td>NaN</td>\n",
              "      <td>0.15</td>\n",
              "      <td>12.3</td>\n",
              "      <td>2</td>\n",
              "      <td>46.4</td>\n",
              "      <td>12.6</td>\n",
              "      <td>0.018</td>\n",
              "      <td>NaN</td>\n",
              "      <td>13.2</td>\n",
              "      <td>13.0</td>\n",
              "      <td>59.0</td>\n",
              "      <td>0.6</td>\n",
              "      <td>73.0</td>\n",
              "      <td>3.5</td>\n",
              "      <td>2017-12-14 22:00</td>\n",
              "      <td>{77B49E92-0811-7E36-8F65-2F53EF6EB173}</td>\n",
              "      <td>010730023</td>\n",
              "    </tr>\n",
              "    <tr>\n",
              "      <th>2</th>\n",
              "      <td>995.8</td>\n",
              "      <td>NaN</td>\n",
              "      <td>31.40</td>\n",
              "      <td>21.5</td>\n",
              "      <td>3</td>\n",
              "      <td>66.2</td>\n",
              "      <td>55.9</td>\n",
              "      <td>0.007</td>\n",
              "      <td>50.0</td>\n",
              "      <td>19.0</td>\n",
              "      <td>48.5</td>\n",
              "      <td>69.0</td>\n",
              "      <td>6.4</td>\n",
              "      <td>150.0</td>\n",
              "      <td>2.0</td>\n",
              "      <td>2017-05-26 06:00</td>\n",
              "      <td>{C908147A-DC90-9163-E39E-FEABA7C3CE6E}</td>\n",
              "      <td>010730023</td>\n",
              "    </tr>\n",
              "    <tr>\n",
              "      <th>3</th>\n",
              "      <td>988.7</td>\n",
              "      <td>0.141</td>\n",
              "      <td>0.90</td>\n",
              "      <td>2.9</td>\n",
              "      <td>4</td>\n",
              "      <td>92.7</td>\n",
              "      <td>4.1</td>\n",
              "      <td>0.036</td>\n",
              "      <td>52.0</td>\n",
              "      <td>25.6</td>\n",
              "      <td>4.9</td>\n",
              "      <td>42.0</td>\n",
              "      <td>0.9</td>\n",
              "      <td>269.0</td>\n",
              "      <td>4.1</td>\n",
              "      <td>2018-06-20 14:00</td>\n",
              "      <td>{C60C1BC4-A50A-DAD4-9DC9-3788C83E2826}</td>\n",
              "      <td>010730023</td>\n",
              "    </tr>\n",
              "    <tr>\n",
              "      <th>4</th>\n",
              "      <td>1001.9</td>\n",
              "      <td>0.361</td>\n",
              "      <td>1.20</td>\n",
              "      <td>14.4</td>\n",
              "      <td>5</td>\n",
              "      <td>61.9</td>\n",
              "      <td>15.7</td>\n",
              "      <td>0.029</td>\n",
              "      <td>NaN</td>\n",
              "      <td>4.5</td>\n",
              "      <td>13.0</td>\n",
              "      <td>31.0</td>\n",
              "      <td>4.0</td>\n",
              "      <td>201.0</td>\n",
              "      <td>4.0</td>\n",
              "      <td>2017-02-10 19:00</td>\n",
              "      <td>{8474318E-C39B-AC50-BAB1-787192998B4B}</td>\n",
              "      <td>010730023</td>\n",
              "    </tr>\n",
              "  </tbody>\n",
              "</table>\n",
              "</div>"
            ]
          },
          "metadata": {
            "tags": []
          },
          "execution_count": 48
        }
      ]
    },
    {
      "cell_type": "markdown",
      "metadata": {
        "id": "fBQGdruIbasf"
      },
      "source": [
        "\n",
        "# Predict PM2.5 using Facebook's Prophet model"
      ]
    },
    {
      "cell_type": "code",
      "metadata": {
        "trusted": false,
        "id": "knYGtdHvZgsx"
      },
      "source": [
        "def predict_pm25():\n",
        "    #imports\n",
        "    from arcgis.gis import GIS\n",
        "    gis = GIS(profile=\"your_enterprise_portal\")\n",
        "    from datetime import datetime as dt\n",
        "    from pyspark.sql.functions import concat, col, lit\n",
        "    import pandas as pd\n",
        "    import numpy as np\n",
        "    from fbprophet import Prophet\n",
        "    from pyspark.sql.functions import pandas_udf, PandasUDFType\n",
        "    from pyspark.sql.types import StructType, StructField, DoubleType, IntegerType, FloatType, TimestampType\n",
        "    import warnings\n",
        "    warnings.filterwarnings('ignore')\n",
        "    \n",
        "    df1 = layers[0] #converts laayer into spark dataframe\n",
        "    cols = ['Outdoor_Temperature', 'Ozone', 'PM10_Total_0_10um_STP',\n",
        "        'PM2_5___Local_Conditions',\n",
        "        'Wind_Direction___Resultant',\n",
        "        'Wind_Speed___Resultant', 'datetime']\n",
        "    df1 = df1.select(cols) #filter data by columns needed\n",
        "    df1 = df1.withColumn('flag', lit(1))\n",
        "    schema = StructType([StructField('ds', TimestampType(), True), #schema of the resulting dataframe\n",
        "                         StructField('yhat_lower', FloatType(), True),\n",
        "                         StructField('yhat_upper', FloatType(), True),\n",
        "                         StructField('yhat', FloatType(), True),\n",
        "                         StructField('y', FloatType(), True)])\n",
        "    \n",
        "    @pandas_udf(schema, PandasUDFType.GROUPED_MAP)\n",
        "    def forecast_pm25(df):\n",
        "        #prepare data \n",
        "        df['Date'] = df['datetime'].astype('datetime64[ns]')\n",
        "        df['year'] = df['Date'].dt.year\n",
        "        df.set_index('Date', inplace=True) \n",
        "        df.sort_index(inplace=True)\n",
        "        v = pd.date_range(start='2016-12-31 23:00:00', periods=18265, freq='H', closed='right') #get date range\n",
        "        newdf = pd.DataFrame(index=v) \n",
        "        # Fill missing dates \n",
        "        historical=pd.merge(newdf, df, how='left', left_index=True, right_index=True)\n",
        "        historical.interpolate(method='time', inplace=True)\n",
        "        historical.reset_index(inplace=True)\n",
        "        historical.rename(columns={'index': 'ds', 'PM2_5___Local_Conditions': 'y'}, inplace=True)\n",
        "        historical.fillna(0, inplace=True)\n",
        "        # handle zero and negative values for pm\n",
        "        for i,item in enumerate(historical['y']):\n",
        "            if item<=0:\n",
        "                historical['y'].iloc[i]=historical['y'].iloc[i-1]\n",
        "            else:\n",
        "                historical['y'].iloc[i]=item\n",
        "                \n",
        "        for i,item in enumerate(historical['PM10_Total_0_10um_STP']):\n",
        "            if item<=0:\n",
        "                historical['PM10_Total_0_10um_STP'].iloc[i]=historical['PM10_Total_0_10um_STP'].iloc[i-1]\n",
        "            else:\n",
        "                historical['PM10_Total_0_10um_STP'].iloc[i]=item        \n",
        "         \n",
        "        for i,item in enumerate(historical['Wind_Speed___Resultant']):\n",
        "            if item<=0:\n",
        "                historical['Wind_Speed___Resultant'].iloc[i]=historical['Wind_Speed___Resultant'].iloc[i-1]\n",
        "            else:\n",
        "                historical['Wind_Speed___Resultant'].iloc[i]=item\n",
        "        \n",
        "        for i,item in enumerate(historical['Wind_Direction___Resultant']):\n",
        "            if item<=0:\n",
        "                historical['Wind_Direction___Resultant'].iloc[i]=historical['Wind_Direction___Resultant'].iloc[i-1]\n",
        "            else:\n",
        "                historical['Wind_Direction___Resultant'].iloc[i]=item\n",
        "        # split data into train and test        \n",
        "        train_df = historical[historical.year != 2019]\n",
        "        test_df = historical[historical.year == 2019]\n",
        "        test_df.drop(columns='y', inplace=True)        \n",
        "        # train model    \n",
        "        m = Prophet(daily_seasonality=True,\n",
        "                    weekly_seasonality=True)\n",
        "        m.add_regressor('PM10_Total_0_10um_STP')\n",
        "        m.add_regressor('Wind_Speed___Resultant')\n",
        "        m.add_regressor('Wind_Direction___Resultant')\n",
        "        m.fit(train_df);\n",
        "        # predict on test data\n",
        "        forecast = m.predict(test_df)\n",
        "        # save plots locally\n",
        "        plot1 = m.plot(forecast);\n",
        "        plot2 = m.plot_components(forecast);\n",
        "        plot1.savefig(r'/home/ags/localdatastore/fbdata/forecast.png')\n",
        "        plot2.savefig(r'/home/ags/localdatastore/fbdata/cmponents.png')\n",
        "        cmp_df = forecast.set_index('ds')[['yhat', 'yhat_lower', 'yhat_upper']].join(historical.set_index('ds'))\n",
        "        cmp_df.reset_index(inplace=True)\n",
        "        cmp_df = cmp_df[['ds', 'yhat_lower', 'yhat_upper', 'yhat', 'y']]\n",
        "        return cmp_df\n",
        "    res = df1.groupby(['flag']).apply(forecast_pm25)\n",
        "\n",
        "    res.write.format(\"webgis\").save(\"predicted_results_on_test_data\" + str(dt.now().microsecond)) # It will run only if it is connected to DB "
      ],
      "execution_count": null,
      "outputs": []
    },
    {
      "cell_type": "code",
      "metadata": {
        "trusted": true,
        "id": "0_4WVpLXZgsx"
      },
      "source": [
        "run_python_script(code=predict_pm25, layers=[series_data])"
      ],
      "execution_count": null,
      "outputs": []
    },
    {
      "cell_type": "code",
      "metadata": {
        "trusted": false,
        "id": "ieYYTon-Zgsy",
        "outputId": "68163caa-4923-4497-a189-c8d1609dcf5c"
      },
      "source": [
        "predicted_item = gis.content.search('predicted_results_on_test_data854829')\n",
        "predicted_item"
      ],
      "execution_count": null,
      "outputs": [
        {
          "output_type": "execute_result",
          "data": {
            "text/plain": [
              "[]"
            ]
          },
          "metadata": {
            "tags": []
          },
          "execution_count": 54
        }
      ]
    },
    {
      "cell_type": "code",
      "metadata": {
        "trusted": true,
        "id": "zkgEG6tDZgsy"
      },
      "source": [
        "predicted_df = predicted_item[1].tables[1].query().sdf"
      ],
      "execution_count": null,
      "outputs": []
    },
    {
      "cell_type": "code",
      "metadata": {
        "trusted": true,
        "id": "NSYiqh3mZgsy"
      },
      "source": [
        "predicted_df.columns"
      ],
      "execution_count": null,
      "outputs": []
    },
    {
      "cell_type": "markdown",
      "metadata": {
        "id": "w7SJZZGtbgcH"
      },
      "source": [
        "\n",
        "# Visualize result on Dashboard"
      ]
    },
    {
      "cell_type": "code",
      "metadata": {
        "trusted": false,
        "id": "OuGN2sdWZgsy"
      },
      "source": [
        "from arcgis.apps.dashboard import SerialChart, add_column, add_row\n",
        "from arcgis.apps.dashboard import Dashboard\n",
        "from arcgis.apps.dashboard import SerialChart"
      ],
      "execution_count": null,
      "outputs": []
    },
    {
      "cell_type": "code",
      "metadata": {
        "trusted": true,
        "id": "mUh5cFdNZgsz"
      },
      "source": [
        "chart = SerialChart(predicted_item,  #Create a serial chart\n",
        "                    categories_from=\"features\", \n",
        "                    title=\"Forecast of PM2.5 for Janumary 2019\") \n",
        "\n",
        "chart.data.category_field = \"ds\" #set category field\n",
        "\n",
        "chart.category_axis.title = \"datetime\" #set title for x axis\n",
        "\n",
        "chart.value_axis.title = \"pm2.5\" #set title for y axis\n",
        "\n",
        "#set fields to visualize on y axis\n",
        "chart.data.add_value_field('y', line_color='#CB4335') \n",
        "chart.data.add_value_field('yhat', line_color='#2980B9')\n",
        "chart.data.add_value_field('yhat_upper', line_color='#CACFD2')\n",
        "chart.data.add_value_field('yhat_lower', line_color='#CACFD2')\n",
        "\n",
        "chart.legend.visibility = True \n",
        "chart.legend.placement = \"side\"\n",
        "chart.category_axis.minimum_period = 'hours'\n",
        "chart.data.labels = False\n",
        "chart.data.hover_text = True\n",
        "chart.data.hover_text = True\n",
        "chart"
      ],
      "execution_count": null,
      "outputs": []
    },
    {
      "cell_type": "code",
      "metadata": {
        "trusted": false,
        "id": "DuSRtBhPZgsz",
        "outputId": "f602c0ec-afda-478e-ffe1-48517b2538ae"
      },
      "source": [
        "agol_gis = GIS('home')"
      ],
      "execution_count": null,
      "outputs": [
        {
          "output_type": "stream",
          "text": [
            "/opt/conda/lib/python3.7/site-packages/arcgis/gis/__init__.py:430: UserWarning: You are logged on as gis_it_mcgm with an administrator role, proceed with caution.\n",
            "  self.users.me.username)\n"
          ],
          "name": "stderr"
        }
      ]
    },
    {
      "cell_type": "code",
      "metadata": {
        "trusted": true,
        "id": "ggwUY1NpZgsz"
      },
      "source": [
        "dashboard = Dashboard() #creates a Dashboard object\n",
        "dashboard.layout = add_row([a_chart]) #adds one chat to the Dashboard\n",
        "dashboard.save('pm2.5_dashboard_2019_jan',  #publishes the dashboard to the portal\n",
        "               gis=agol_gis)"
      ],
      "execution_count": null,
      "outputs": []
    }
  ]
}